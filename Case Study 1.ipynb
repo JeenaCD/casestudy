{
 "cells": [
  {
   "cell_type": "markdown",
   "id": "23d907f5",
   "metadata": {},
   "source": [
    "## 1. A school has following rules for grading system:\n",
    "a. Below 25 - F\n",
    "b. 25 to 45 - E\n",
    "c. 45 to 50 - D\n",
    "d. 50 to 60 - C\n",
    "e. 60 to 80 - B\n",
    "f. Above 80 - A\n",
    "Ask user to enter marks and print the corresponding grade."
   ]
  },
  {
   "cell_type": "code",
   "execution_count": 2,
   "id": "41a5c485",
   "metadata": {},
   "outputs": [
    {
     "name": "stdout",
     "output_type": "stream",
     "text": [
      "Enter your mark: 56\n",
      "Grade is 'C'\n"
     ]
    }
   ],
   "source": [
    "mark = int(input(\"Enter your mark: \"))\n",
    "if mark<25:\n",
    "    print(\"Grade is 'F'\")\n",
    "elif mark>=25 and mark<45:\n",
    "     print(\"Grade is 'E'\")\n",
    "elif mark>=45 and mark<50:\n",
    "     print(\"Grade is 'D'\")\n",
    "elif mark>=50 and mark<60:\n",
    "     print(\"Grade is 'C'\")\n",
    "elif mark>=60 and mark<80:\n",
    "     print(\"Grade is 'B'\")\n",
    "else:\n",
    "    print(\"Grade is A\")"
   ]
  },
  {
   "cell_type": "markdown",
   "id": "d5ada6a1",
   "metadata": {},
   "source": [
    "## 2. You have a list of names. Create a new list which contains only the names with non-repeating characters. \n",
    "Sample input = [‘John’,’Peter’,’Meera’,’Mini’,’Krishna’]\n",
    "Sample output = [‘John’,Krishna]"
   ]
  },
  {
   "cell_type": "code",
   "execution_count": 41,
   "id": "89dee2b6",
   "metadata": {},
   "outputs": [
    {
     "name": "stdout",
     "output_type": "stream",
     "text": [
      "['krishna']\n"
     ]
    }
   ],
   "source": [
    "list1 = ['John','Peter','Meera','Mini','Krishna']\n",
    "output = []\n",
    "i,length,term_len,n = 0,0,0,0\n",
    "term,x,y,word=str,str,str,str\n",
    "length = len(list1)\n",
    "for i in range(0,length):\n",
    "    word = list1[i]\n",
    "    term = word.lower()\n",
    "    term_len = len(term)\n",
    "    for n in range(0,term_len):\n",
    "        if n == 0:\n",
    "            x=term[n]\n",
    "            y=x\n",
    "        else:\n",
    "            x=term[n]\n",
    "            if x==y:\n",
    "                break\n",
    "            else:\n",
    "                y=x\n",
    "output.append(term)\n",
    "print(output) \n",
    "            "
   ]
  },
  {
   "cell_type": "markdown",
   "id": "c7f517b8",
   "metadata": {},
   "source": [
    "## 3. Take values of length and breadth of a rectangle from user and check if it is square or not."
   ]
  },
  {
   "cell_type": "code",
   "execution_count": 2,
   "id": "2c752fd1",
   "metadata": {},
   "outputs": [
    {
     "name": "stdout",
     "output_type": "stream",
     "text": [
      "Enter the length of rectangle: 4\n",
      "Enter the breadth of rectangle: 5\n",
      "It's not a square\n"
     ]
    }
   ],
   "source": [
    "length= int(input(\"Enter the length of rectangle: \"))\n",
    "breadth = int(input(\"Enter the breadth of rectangle: \"))\n",
    "if length == breadth:\n",
    "    print(\"It's a Square\")\n",
    "else:\n",
    "    print(\"It's not a square\")"
   ]
  },
  {
   "cell_type": "markdown",
   "id": "0adf4936",
   "metadata": {},
   "source": [
    "## 4. A student will not be allowed to sit in exam if his/her attendance is less than 75%. Take following input from user Number of classes held Number of classes attended. And print percentage of class attended Is student is allowed to sit in exam or not"
   ]
  },
  {
   "cell_type": "code",
   "execution_count": 4,
   "id": "75a9af9e",
   "metadata": {},
   "outputs": [
    {
     "name": "stdout",
     "output_type": "stream",
     "text": [
      "Enter the no: of classes held: 50\n",
      "Enter the no: of classes attended: 40\n",
      "Percentage of class attended is  80.0\n",
      "You are allowed to take exam\n"
     ]
    }
   ],
   "source": [
    "held = int(input(\"Enter the no: of classes held: \"))\n",
    "attended = int(input(\"Enter the no: of classes attended: \"))\n",
    "percentage = attended*100/held\n",
    "print(\"Percentage of class attended is \",percentage)\n",
    "if percentage >=75:\n",
    "    print(\"You are allowed to take exam\")\n",
    "else:\n",
    "    print(\"You are not allowed to take exam\")\n"
   ]
  },
  {
   "cell_type": "markdown",
   "id": "6a9b059b",
   "metadata": {},
   "source": [
    "## 5. Create a list by taking length of the list and elements of the list from user. Then find the sum of the elements of the list. Also create a new called even list which contains only even numbers from first list and odd list which contains odd numbers from the list. \n",
    "Sample input:\n",
    "Length of the list = 5\n",
    "List1 = [2,6,3,1,5]\n",
    "Sum = 17\n",
    "Even_list=[2,6]\n",
    "Odd_list=[3,1,5]\n"
   ]
  },
  {
   "cell_type": "code",
   "execution_count": 6,
   "id": "b7c27f31",
   "metadata": {},
   "outputs": [
    {
     "name": "stdout",
     "output_type": "stream",
     "text": [
      "Enter the length of the list: 5\n",
      "Enter element to the list: 1\n",
      "Enter element to the list: 2\n",
      "Enter element to the list: 3\n",
      "Enter element to the list: 4\n",
      "Enter element to the list: 5\n",
      "User inputted list:  [1, 2, 3, 4, 5]\n",
      "Even list:  [2, 4]\n",
      "Odd list:  [1, 3, 5]\n"
     ]
    }
   ],
   "source": [
    "length = int(input(\"Enter the length of the list: \"))\n",
    "i=0\n",
    "s=0\n",
    "list1=[]\n",
    "even_list=[]\n",
    "odd_list=[]\n",
    "for i in range(0,length):\n",
    "    ele = int(input(\"Enter element to the list: \"))\n",
    "    list1.append(ele)\n",
    "    s +=ele\n",
    "    if ele%2==0:\n",
    "        even_list.append(ele)\n",
    "    else:\n",
    "        odd_list.append(ele)\n",
    "print(\"User inputted list: \",list1)\n",
    "print(\"Even list: \",even_list)\n",
    "print(\"Odd list: \",odd_list)\n",
    "    "
   ]
  },
  {
   "cell_type": "markdown",
   "id": "2c035ac7",
   "metadata": {},
   "source": [
    "## 6. Create a sample chatbot for an ecommerce website"
   ]
  },
  {
   "cell_type": "code",
   "execution_count": 8,
   "id": "f7597980",
   "metadata": {},
   "outputs": [
    {
     "name": "stdout",
     "output_type": "stream",
     "text": [
      "Welcome to Amazon\n",
      "Enter Quit to stopnnk\n",
      "Please use another option\n",
      "Enter Quit to stophelp\n",
      "How can I help U?\n",
      "Enter Quit to stopquit\n",
      "Have a nice time!\n"
     ]
    }
   ],
   "source": [
    "print('Welcome to Amazon')\n",
    "while True:\n",
    "    x = input('Enter Quit to stop')\n",
    "    x.lower()\n",
    "    if x=='quit':\n",
    "        print('Have a nice time!')\n",
    "        break\n",
    "    y=x.split()\n",
    "    if len(y)==0:\n",
    "        print('Plaese give a valid input')\n",
    "    elif 'morning' in y:\n",
    "        print('Good Morning')\n",
    "    elif 'noon' in y:\n",
    "        print('Good afternoon')\n",
    "    elif 'evening' in y:\n",
    "        print('Good evening')\n",
    "    elif 'night' in y:\n",
    "        print('Good night')\n",
    "    elif 'help' in y:\n",
    "        print('How can I help U?')\n",
    "    elif 'kurtis' in y:\n",
    "        print('Please go to women section')\n",
    "    elif 'offers' in y:\n",
    "        print('Please click on offer sale')\n",
    "    elif 'shipping' in y:\n",
    "        print('Please check shipping details')\n",
    "    elif 'contact' in y:\n",
    "        print('Please contact customare care')\n",
    "    else:\n",
    "        print('Please use another option')\n",
    "        "
   ]
  },
  {
   "cell_type": "markdown",
   "id": "25727599",
   "metadata": {},
   "source": [
    "## 7. Write a program to find the roots of a quadratic equation. Get the co-efficients of quadratic equation ax^2+bx+c and display whether the roots are real and equal or real and distinct or roots are imaginary. You have to find the roots and display it as well.  "
   ]
  },
  {
   "cell_type": "code",
   "execution_count": 27,
   "id": "21c7ada8",
   "metadata": {},
   "outputs": [
    {
     "name": "stdout",
     "output_type": "stream",
     "text": [
      "Enter the value for a: 1\n",
      "Enter the value for b: 5\n",
      "Enter the value for c: 6\n",
      "Roots are real and different\n",
      "The roots are (-3+0j) and (-2+0j)\n"
     ]
    }
   ],
   "source": [
    "import cmath\n",
    "\n",
    "a = int(input(\"Enter the value for a: \"))\n",
    "b = int(input(\"Enter the value for b: \"))\n",
    "c = int(input(\"Enter the value for c: \"))\n",
    "d = (b**2) - (4*a*c)\n",
    "if d >0:\n",
    "    print(\"Roots are real and different\")\n",
    "elif d==0:\n",
    "    print(\"Roots are real and equal\")\n",
    "else:\n",
    "    print(\"Roots are imaginary\")\n",
    "root1 = (-b-cmath.sqrt(d))/(2*a)\n",
    "root2 = (-b+cmath.sqrt(d))/(2*a)\n",
    "\n",
    "print('The roots are {0} and {1}'.format(root1,root2))"
   ]
  },
  {
   "cell_type": "markdown",
   "id": "50b3a4b2",
   "metadata": {},
   "source": [
    "## 8. Given a range of first 10 numbers, write a Python program to iterate from start number to the end number and print the sum of the current number and previous number. \n",
    "Sample input: 1….10 \n",
    "Sample output: Current Number 1 Previous Number 0 Sum: 1\n",
    "Current Number 2 Previous Number 1 Sum: 3 \n",
    "Current Number 3 Previous Number 2 Sum: 5… \n",
    "…….\n",
    "Current Number 10 Previous Number 9 Sum: 19"
   ]
  },
  {
   "cell_type": "code",
   "execution_count": 11,
   "id": "9539c0fb",
   "metadata": {},
   "outputs": [
    {
     "name": "stdout",
     "output_type": "stream",
     "text": [
      "Current Number  1  Previous Number  0  Sum  1\n",
      "Current Number  2  Previous Number  1  Sum  3\n",
      "Current Number  3  Previous Number  2  Sum  5\n",
      "Current Number  4  Previous Number  3  Sum  7\n",
      "Current Number  5  Previous Number  4  Sum  9\n",
      "Current Number  6  Previous Number  5  Sum  11\n",
      "Current Number  7  Previous Number  6  Sum  13\n",
      "Current Number  8  Previous Number  7  Sum  15\n",
      "Current Number  9  Previous Number  8  Sum  17\n",
      "Current Number  10  Previous Number  9  Sum  19\n"
     ]
    }
   ],
   "source": [
    "i=0\n",
    "for i in range(1,11):\n",
    "    print(\"Current Number \",i,\" Previous Number \",i-1,\" Sum \",i+i-1)\n",
    "    "
   ]
  },
  {
   "cell_type": "markdown",
   "id": "8ff5778c",
   "metadata": {},
   "source": [
    "## 9. Write a Python program to find the prime numbers in a given range. Get the range from user and print prime numbers in that range."
   ]
  },
  {
   "cell_type": "code",
   "execution_count": 14,
   "id": "56875457",
   "metadata": {},
   "outputs": [
    {
     "name": "stdout",
     "output_type": "stream",
     "text": [
      "Enter the lower limit: 20\n",
      "Enter the upper limit: 50\n",
      "23\n",
      "29\n",
      "31\n",
      "37\n",
      "41\n",
      "43\n",
      "47\n"
     ]
    }
   ],
   "source": [
    "lower = int(input(\"Enter the lower limit: \"))\n",
    "upper = int(input(\"Enter the upper limit: \"))\n",
    "n=0\n",
    "i=0\n",
    "for n in range(lower,upper+1):\n",
    "    if n>1:\n",
    "        for i in range(2,n):\n",
    "            if n%i == 0:\n",
    "                break\n",
    "        else:\n",
    "            print(n)\n",
    "            "
   ]
  },
  {
   "cell_type": "markdown",
   "id": "6dbd0a35",
   "metadata": {},
   "source": [
    "## 10. Write a Python program to print Fibonacci series in a given range. Get the range from user and print prime numbers in that range"
   ]
  },
  {
   "cell_type": "code",
   "execution_count": 10,
   "id": "acb81691",
   "metadata": {},
   "outputs": [
    {
     "name": "stdout",
     "output_type": "stream",
     "text": [
      "Enter the range of fibonacci series: 7\n",
      "Fibonacci series is  [0, 1, 1, 2, 3, 5]\n",
      "Prime numbers is  [2, 3, 5]\n"
     ]
    }
   ],
   "source": [
    "upper = int(input(\"Enter the range of fibonacci series: \"))\n",
    "n=0\n",
    "i=0\n",
    "fib = []\n",
    "prime = []\n",
    "last,first,term = 0,0,0\n",
    "for n in range(0,upper):\n",
    "    if n==0:\n",
    "        fib.append(n)\n",
    "    elif n==1:\n",
    "        fib.append(n)\n",
    "    else:\n",
    "        first = fib[n-1]\n",
    "        second = fib[n-2]\n",
    "        term = first+second\n",
    "        if term<=upper:\n",
    "            fib.append(term)\n",
    "        for i in range(2,n):\n",
    "            if n%i == 0:\n",
    "                break\n",
    "        else:\n",
    "            prime.append(n)\n",
    "\n",
    "print(\"Fibonacci series is \",fib)\n",
    "print(\"Prime numbers is \",prime)\n",
    "            "
   ]
  }
 ],
 "metadata": {
  "kernelspec": {
   "display_name": "Python 3 (ipykernel)",
   "language": "python",
   "name": "python3"
  },
  "language_info": {
   "codemirror_mode": {
    "name": "ipython",
    "version": 3
   },
   "file_extension": ".py",
   "mimetype": "text/x-python",
   "name": "python",
   "nbconvert_exporter": "python",
   "pygments_lexer": "ipython3",
   "version": "3.9.13"
  }
 },
 "nbformat": 4,
 "nbformat_minor": 5
}
